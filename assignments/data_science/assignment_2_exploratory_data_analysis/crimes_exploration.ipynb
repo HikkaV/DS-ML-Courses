{
  "nbformat": 4,
  "nbformat_minor": 0,
  "metadata": {
    "colab": {
      "name": "crimes_exploration.ipynb",
      "provenance": [],
      "collapsed_sections": []
    },
    "kernelspec": {
      "display_name": "Python 3",
      "language": "python",
      "name": "python3"
    },
    "language_info": {
      "codemirror_mode": {
        "name": "ipython",
        "version": 3
      },
      "file_extension": ".py",
      "mimetype": "text/x-python",
      "name": "python",
      "nbconvert_exporter": "python",
      "pygments_lexer": "ipython3",
      "version": "3.7.5rc1"
    }
  },
  "cells": [
    {
      "cell_type": "markdown",
      "metadata": {
        "colab_type": "text",
        "id": "pP053Z9g7LbR"
      },
      "source": [
        "<pre style='font-size :25px; text-align: center'><b>ASSIGNMENT 2</b></pre>\n",
        "<pre style='font-size :20px'><b>EXPLORATORY DATA ANALYSIS</b></pre>\n",
        "<pre style='font-size :15px'>Welcome to your second assignment in data science module. \n",
        "The main aim of this notebook is going to be a very high-level Exploratory Data Analysis and Visualisation of the data. \n",
        "Just to get a feel for the numbers and to play around with some of Seaborn's as well as wordcloud's plotting capabilities. \n",
        "Good luck.</pre>"
      ]
    },
    {
      "cell_type": "markdown",
      "metadata": {
        "colab_type": "text",
        "id": "8YZazFX4S4JU"
      },
      "source": [
        "<pre style='font-size : 20px'><b>PART 1</b></pre>\n",
        "<pre style='font-size : 18px'><b>Loading the data</b></pre>\n",
        "<pre style='font-size : 15px;'>Firstly let's import necessary packages. </pre>"
      ]
    },
    {
      "cell_type": "code",
      "metadata": {
        "colab_type": "code",
        "id": "_O5psBOlS4JV",
        "colab": {}
      },
      "source": [
        "# modules we'll use\n",
        "import numpy as np\n",
        "import pandas as pd\n",
        "import seaborn as sns\n",
        "from matplotlib import pyplot as plt\n",
        "from wordcloud import WordCloud, STOPWORDS\n",
        "%matplotlib inline"
      ],
      "execution_count": 0,
      "outputs": []
    },
    {
      "cell_type": "markdown",
      "metadata": {
        "colab_type": "text",
        "id": "6HBLlY5PS4JX"
      },
      "source": [
        "<pre style='font-size : 15px;'>The function <b>load_data</b> loads the data given its name.</a> </pre>"
      ]
    },
    {
      "cell_type": "code",
      "metadata": {
        "colab_type": "code",
        "id": "-z-SBw4A7Kf2",
        "colab": {}
      },
      "source": [
        "def load_data(file):\n",
        "    url = 'https://raw.githubusercontent.com/HikkaV/VNTU-ML-Courses/master/assignments/data_science/files/{}'.format(file)\n",
        "    try:\n",
        "        df = pd.read_csv('../files/{}'.format(file))\n",
        "    except:\n",
        "        df = pd.read_csv(url)\n",
        "    return df"
      ],
      "execution_count": 0,
      "outputs": []
    },
    {
      "cell_type": "code",
      "metadata": {
        "colab_type": "code",
        "id": "zRpVjFMEfUAg",
        "colab": {}
      },
      "source": [
        "# read in our data\n",
        "crime = load_data('crime.csv')\n",
        "\n",
        "# set seed for reproducibility\n",
        "np.random.seed(0)"
      ],
      "execution_count": 0,
      "outputs": []
    },
    {
      "cell_type": "markdown",
      "metadata": {
        "id": "2JBwf6OTVPwr",
        "colab_type": "text"
      },
      "source": [
        "<pre style='font-size : 15px;'>let's start by looking at the first 5 rows to get a feel</a> </pre>"
      ]
    },
    {
      "cell_type": "code",
      "metadata": {
        "id": "Wv0V3HRJU8iV",
        "colab_type": "code",
        "outputId": "a9daaad2-a04f-4108-ce93-243881566b17",
        "colab": {
          "base_uri": "https://localhost:8080/",
          "height": 289
        }
      },
      "source": [
        "crime.head()"
      ],
      "execution_count": 4,
      "outputs": [
        {
          "output_type": "execute_result",
          "data": {
            "text/html": [
              "<div>\n",
              "<style scoped>\n",
              "    .dataframe tbody tr th:only-of-type {\n",
              "        vertical-align: middle;\n",
              "    }\n",
              "\n",
              "    .dataframe tbody tr th {\n",
              "        vertical-align: top;\n",
              "    }\n",
              "\n",
              "    .dataframe thead th {\n",
              "        text-align: right;\n",
              "    }\n",
              "</style>\n",
              "<table border=\"1\" class=\"dataframe\">\n",
              "  <thead>\n",
              "    <tr style=\"text-align: right;\">\n",
              "      <th></th>\n",
              "      <th>Dates</th>\n",
              "      <th>Category</th>\n",
              "      <th>Descript</th>\n",
              "      <th>DayOfWeek</th>\n",
              "      <th>PdDistrict</th>\n",
              "      <th>Resolution</th>\n",
              "      <th>Address</th>\n",
              "      <th>X</th>\n",
              "      <th>Y</th>\n",
              "    </tr>\n",
              "  </thead>\n",
              "  <tbody>\n",
              "    <tr>\n",
              "      <th>0</th>\n",
              "      <td>5/13/2015 23:53</td>\n",
              "      <td>WARRANTS</td>\n",
              "      <td>WARRANT ARREST</td>\n",
              "      <td>Wednesday</td>\n",
              "      <td>NORTHERN</td>\n",
              "      <td>ARREST, BOOKED</td>\n",
              "      <td>OAK ST / LAGUNA ST</td>\n",
              "      <td>-122.425892</td>\n",
              "      <td>37.774599</td>\n",
              "    </tr>\n",
              "    <tr>\n",
              "      <th>1</th>\n",
              "      <td>5/13/2015 23:53</td>\n",
              "      <td>OTHER OFFENSES</td>\n",
              "      <td>TRAFFIC VIOLATION ARREST</td>\n",
              "      <td>Wednesday</td>\n",
              "      <td>NORTHERN</td>\n",
              "      <td>ARREST, BOOKED</td>\n",
              "      <td>OAK ST / LAGUNA ST</td>\n",
              "      <td>-122.425892</td>\n",
              "      <td>37.774599</td>\n",
              "    </tr>\n",
              "    <tr>\n",
              "      <th>2</th>\n",
              "      <td>5/13/2015 23:33</td>\n",
              "      <td>OTHER OFFENSES</td>\n",
              "      <td>TRAFFIC VIOLATION ARREST</td>\n",
              "      <td>Wednesday</td>\n",
              "      <td>NORTHERN</td>\n",
              "      <td>ARREST, BOOKED</td>\n",
              "      <td>VANNESS AV / GREENWICH ST</td>\n",
              "      <td>-122.424363</td>\n",
              "      <td>37.800414</td>\n",
              "    </tr>\n",
              "    <tr>\n",
              "      <th>3</th>\n",
              "      <td>5/13/2015 23:30</td>\n",
              "      <td>LARCENY/THEFT</td>\n",
              "      <td>GRAND THEFT FROM LOCKED AUTO</td>\n",
              "      <td>Wednesday</td>\n",
              "      <td>NORTHERN</td>\n",
              "      <td>NONE</td>\n",
              "      <td>1500 Block of LOMBARD ST</td>\n",
              "      <td>-122.426995</td>\n",
              "      <td>37.800873</td>\n",
              "    </tr>\n",
              "    <tr>\n",
              "      <th>4</th>\n",
              "      <td>5/13/2015 23:30</td>\n",
              "      <td>LARCENY/THEFT</td>\n",
              "      <td>GRAND THEFT FROM LOCKED AUTO</td>\n",
              "      <td>Wednesday</td>\n",
              "      <td>PARK</td>\n",
              "      <td>NONE</td>\n",
              "      <td>100 Block of BRODERICK ST</td>\n",
              "      <td>-122.438738</td>\n",
              "      <td>37.771541</td>\n",
              "    </tr>\n",
              "  </tbody>\n",
              "</table>\n",
              "</div>"
            ],
            "text/plain": [
              "             Dates        Category  ...           X          Y\n",
              "0  5/13/2015 23:53        WARRANTS  ... -122.425892  37.774599\n",
              "1  5/13/2015 23:53  OTHER OFFENSES  ... -122.425892  37.774599\n",
              "2  5/13/2015 23:33  OTHER OFFENSES  ... -122.424363  37.800414\n",
              "3  5/13/2015 23:30   LARCENY/THEFT  ... -122.426995  37.800873\n",
              "4  5/13/2015 23:30   LARCENY/THEFT  ... -122.438738  37.771541\n",
              "\n",
              "[5 rows x 9 columns]"
            ]
          },
          "metadata": {
            "tags": []
          },
          "execution_count": 4
        }
      ]
    },
    {
      "cell_type": "markdown",
      "metadata": {
        "id": "iqxMtnZ_Vjpx",
        "colab_type": "text"
      },
      "source": [
        "<pre style='font-size : 15px;'>As a rule of thumb we should check data amount. \n",
        "Le'ts do this using <b>.len()</b> function. </pre>"
      ]
    },
    {
      "cell_type": "code",
      "metadata": {
        "id": "hpVhHsG6WoJb",
        "colab_type": "code",
        "outputId": "15867c10-29ee-4dd6-f43c-943623725b05",
        "colab": {
          "base_uri": "https://localhost:8080/",
          "height": 34
        }
      },
      "source": [
        "len(crime)"
      ],
      "execution_count": 5,
      "outputs": [
        {
          "output_type": "execute_result",
          "data": {
            "text/plain": [
              "835"
            ]
          },
          "metadata": {
            "tags": []
          },
          "execution_count": 5
        }
      ]
    },
    {
      "cell_type": "markdown",
      "metadata": {
        "colab_type": "text",
        "id": "Fijj14o-S4Jd"
      },
      "source": [
        "<pre style='font-size : 15px;'>It's quite a small and concise dataset but there should be quite a lot that can be done with regards to EDA on this.\n",
        "So let's get started from the left to the right with the \"Category\" column.</pre>"
      ]
    },
    {
      "cell_type": "markdown",
      "metadata": {
        "id": "2vQZGG22XJXw",
        "colab_type": "text"
      },
      "source": [
        "<pre style='font-size : 18px'><b>Which are the most common categories of crime committed?</b></pre>"
      ]
    },
    {
      "cell_type": "markdown",
      "metadata": {
        "id": "4ea03dL5XeNx",
        "colab_type": "text"
      },
      "source": [
        "<pre style='font-size : 15px;'>Here, we will take a quick look at some summary aggregates to see what was the most common category of crime that was registered or committed.\n",
        "For this purpose pandas <b>value_counts()</b> method should be used, which outputs the volume (number of) crimes grouped per category.</pre>"
      ]
    },
    {
      "cell_type": "code",
      "metadata": {
        "id": "Bq9af2neXyqA",
        "colab_type": "code",
        "outputId": "29ce615b-ef03-4c21-fa45-a811198553bb",
        "colab": {
          "base_uri": "https://localhost:8080/",
          "height": 510
        }
      },
      "source": [
        "crime.Category.value_counts()"
      ],
      "execution_count": 6,
      "outputs": [
        {
          "output_type": "execute_result",
          "data": {
            "text/plain": [
              "LARCENY/THEFT                  223\n",
              "NON-CRIMINAL                   102\n",
              "OTHER OFFENSES                  98\n",
              "ASSAULT                         60\n",
              "VEHICLE THEFT                   54\n",
              "VANDALISM                       40\n",
              "BURGLARY                        39\n",
              "SUSPICIOUS OCC                  35\n",
              "MISSING PERSON                  27\n",
              "WARRANTS                        26\n",
              "DRUG/NARCOTIC                   15\n",
              "ROBBERY                         14\n",
              "FRAUD                           14\n",
              "SECONDARY CODES                 14\n",
              "PROSTITUTION                    13\n",
              "WEAPON LAWS                     11\n",
              "TRESPASS                        11\n",
              "SEX OFFENSES FORCIBLE           10\n",
              "DRUNKENNESS                      6\n",
              "DRIVING UNDER THE INFLUENCE      5\n",
              "KIDNAPPING                       4\n",
              "ARSON                            3\n",
              "STOLEN PROPERTY                  3\n",
              "DISORDERLY CONDUCT               2\n",
              "LIQUOR LAWS                      2\n",
              "FORGERY/COUNTERFEITING           2\n",
              "BRIBERY                          1\n",
              "EMBEZZLEMENT                     1\n",
              "Name: Category, dtype: int64"
            ]
          },
          "metadata": {
            "tags": []
          },
          "execution_count": 6
        }
      ]
    },
    {
      "cell_type": "markdown",
      "metadata": {
        "id": "VIJ89B-oYN1F",
        "colab_type": "text"
      },
      "source": [
        "<pre style='font-size : 15px;'>Numbers looks good, but let's compare it to visual presentation.\n",
        "To do that we should first create separate data frame wich containing previous result.\n",
        "And second - plot the chart.</pre>"
      ]
    },
    {
      "cell_type": "code",
      "metadata": {
        "id": "OLQIHmTkYkiG",
        "colab_type": "code",
        "colab": {}
      },
      "source": [
        "category = pd.DataFrame(list(zip(crime.Category.value_counts().index,crime.Category.value_counts())), columns=['Category','value'], index=None)"
      ],
      "execution_count": 0,
      "outputs": []
    },
    {
      "cell_type": "markdown",
      "metadata": {
        "id": "4KL_HnURYvHx",
        "colab_type": "text"
      },
      "source": [
        "<pre style='font-size : 15px;'>Consider to check if we are right.</pre>"
      ]
    },
    {
      "cell_type": "code",
      "metadata": {
        "id": "SwrqX5l4Y5_4",
        "colab_type": "code",
        "outputId": "759c045f-3efd-45e1-962b-d7f260d9f950",
        "colab": {
          "base_uri": "https://localhost:8080/",
          "height": 204
        }
      },
      "source": [
        "category.head()"
      ],
      "execution_count": 8,
      "outputs": [
        {
          "output_type": "execute_result",
          "data": {
            "text/html": [
              "<div>\n",
              "<style scoped>\n",
              "    .dataframe tbody tr th:only-of-type {\n",
              "        vertical-align: middle;\n",
              "    }\n",
              "\n",
              "    .dataframe tbody tr th {\n",
              "        vertical-align: top;\n",
              "    }\n",
              "\n",
              "    .dataframe thead th {\n",
              "        text-align: right;\n",
              "    }\n",
              "</style>\n",
              "<table border=\"1\" class=\"dataframe\">\n",
              "  <thead>\n",
              "    <tr style=\"text-align: right;\">\n",
              "      <th></th>\n",
              "      <th>Category</th>\n",
              "      <th>value</th>\n",
              "    </tr>\n",
              "  </thead>\n",
              "  <tbody>\n",
              "    <tr>\n",
              "      <th>0</th>\n",
              "      <td>LARCENY/THEFT</td>\n",
              "      <td>223</td>\n",
              "    </tr>\n",
              "    <tr>\n",
              "      <th>1</th>\n",
              "      <td>NON-CRIMINAL</td>\n",
              "      <td>102</td>\n",
              "    </tr>\n",
              "    <tr>\n",
              "      <th>2</th>\n",
              "      <td>OTHER OFFENSES</td>\n",
              "      <td>98</td>\n",
              "    </tr>\n",
              "    <tr>\n",
              "      <th>3</th>\n",
              "      <td>ASSAULT</td>\n",
              "      <td>60</td>\n",
              "    </tr>\n",
              "    <tr>\n",
              "      <th>4</th>\n",
              "      <td>VEHICLE THEFT</td>\n",
              "      <td>54</td>\n",
              "    </tr>\n",
              "  </tbody>\n",
              "</table>\n",
              "</div>"
            ],
            "text/plain": [
              "         Category  value\n",
              "0   LARCENY/THEFT    223\n",
              "1    NON-CRIMINAL    102\n",
              "2  OTHER OFFENSES     98\n",
              "3         ASSAULT     60\n",
              "4   VEHICLE THEFT     54"
            ]
          },
          "metadata": {
            "tags": []
          },
          "execution_count": 8
        }
      ]
    },
    {
      "cell_type": "markdown",
      "metadata": {
        "id": "vQ4XEnBTZI3m",
        "colab_type": "text"
      },
      "source": [
        "<pre style='font-size : 15px;'>Plotting the data using <b>catplot</b> from seaborn.</pre>"
      ]
    },
    {
      "cell_type": "code",
      "metadata": {
        "id": "RfhNqycKZbjh",
        "colab_type": "code",
        "outputId": "2ac8d7f7-56de-4dbf-a463-6aa5d4181d89",
        "colab": {
          "base_uri": "https://localhost:8080/",
          "height": 348
        }
      },
      "source": [
        "sns.catplot(x='value', y = 'Category', data=category, kind=\"bar\", height=4.25, aspect=1.9, palette=\"cubehelix\")\n",
        "plt.title('Catplot of the category of crime and number of occurences ')"
      ],
      "execution_count": 9,
      "outputs": [
        {
          "output_type": "execute_result",
          "data": {
            "text/plain": [
              "Text(0.5, 1, 'Catplot of the category of crime and number of occurences ')"
            ]
          },
          "metadata": {
            "tags": []
          },
          "execution_count": 9
        },
        {
          "output_type": "display_data",
          "data": {
            "image/png": "[encoded data removed]",
            "text/plain": [
              "<Figure size 581.4x306 with 1 Axes>"
            ]
          },
          "metadata": {
            "tags": []
          }
        }
      ]
    },
    {
      "cell_type": "markdown",
      "metadata": {
        "id": "dB_TxzKRb8v7",
        "colab_type": "text"
      },
      "source": [
        "<pre style='font-size : 15px;'>What about yet one more nice representaion of same data - wordcloud.\n",
        "</pre>"
      ]
    },
    {
      "cell_type": "code",
      "metadata": {
        "id": "ycbXs54RcSzm",
        "colab_type": "code",
        "colab": {}
      },
      "source": [
        "wordcloud = WordCloud(\n",
        "                    stopwords=STOPWORDS,\n",
        "                    background_color='black',\n",
        "                    width=1200,\n",
        "                    height=800\n",
        "                    ).generate(\" \".join(category['Category'].values))"
      ],
      "execution_count": 0,
      "outputs": []
    },
    {
      "cell_type": "code",
      "metadata": {
        "id": "ionK3lhVcdfN",
        "colab_type": "code",
        "outputId": "2fea3c74-5485-4bbe-c929-ccc76a6f139e",
        "colab": {
          "base_uri": "https://localhost:8080/",
          "height": 248
        }
      },
      "source": [
        "plt.imshow(wordcloud, alpha=0.7)\n",
        "plt.axis('off')\n",
        "plt.show()"
      ],
      "execution_count": 12,
      "outputs": [
        {
          "output_type": "display_data",
          "data": {
            "image/png": "[encoded data removed]",
            "text/plain": [
              "<Figure size 432x288 with 1 Axes>"
            ]
          },
          "metadata": {
            "tags": []
          }
        }
      ]
    },
    {
      "cell_type": "markdown",
      "metadata": {
        "id": "hMynFb58dIXH",
        "colab_type": "text"
      },
      "source": [
        "<pre style='font-size : 15px;'>From all data visualizations result is the same: THEFT is most common crime in this dataset.</pre>"
      ]
    },
    {
      "cell_type": "markdown",
      "metadata": {
        "id": "bMN1iX74dcsu",
        "colab_type": "text"
      },
      "source": [
        "<pre style='font-size : 18px'><b>Most common crimes carried out per it's description?</b></pre>"
      ]
    },
    {
      "cell_type": "markdown",
      "metadata": {
        "id": "T1-HkXohdcvw",
        "colab_type": "text"
      },
      "source": [
        "<pre style='font-size : 15px;'>The code and visualisation here in this section will be carried out much like in the previous one.\n",
        "We will also look at summary aggregates of the counts per description type.</pre>\n"
      ]
    },
    {
      "cell_type": "code",
      "metadata": {
        "id": "bMsYDfc9d8DM",
        "colab_type": "code",
        "outputId": "6ced27b0-9ab2-4392-8419-229c7fa11e37",
        "colab": {
          "base_uri": "https://localhost:8080/",
          "height": 221
        }
      },
      "source": [
        "crime.Descript.value_counts()"
      ],
      "execution_count": 13,
      "outputs": [
        {
          "output_type": "execute_result",
          "data": {
            "text/plain": [
              "GRAND THEFT FROM LOCKED AUTO                      76\n",
              "AIDED CASE, MENTAL DISTURBED                      30\n",
              "PETTY THEFT OF PROPERTY                           30\n",
              "STOLEN AUTOMOBILE                                 30\n",
              "BATTERY                                           22\n",
              "                                                  ..\n",
              "HARASSING PHONE CALLS                              1\n",
              "BURGLARY OF STORE, UNLAWFUL ENTRY                  1\n",
              "PROBATION VIOLATION, DV RELATED                    1\n",
              "PREJUDICE-BASED INCIDENT                           1\n",
              "FIREARM, LOADED, IN VEHICLE, POSSESSION OR USE     1\n",
              "Name: Descript, Length: 165, dtype: int64"
            ]
          },
          "metadata": {
            "tags": []
          },
          "execution_count": 13
        }
      ]
    },
    {
      "cell_type": "markdown",
      "metadata": {
        "id": "72mOk_3BdcyM",
        "colab_type": "text"
      },
      "source": [
        "<pre style='font-size : 15px;'>This column contains a lot more detailed information about the type of the crime committed.\n",
        "And right-away we can observe that Grand Theft Auto is the most common crime description in this area.\n",
        "Again, we create another dataframe which will make it convenient for the plotting.</pre>\n"
      ]
    },
    {
      "cell_type": "code",
      "metadata": {
        "id": "WF1b-l5Seht_",
        "colab_type": "code",
        "colab": {}
      },
      "source": [
        "descript = pd.DataFrame(list(zip(crime.Descript.value_counts().index,crime.Descript.value_counts())), columns=['Description','counts'], index=None)"
      ],
      "execution_count": 0,
      "outputs": []
    },
    {
      "cell_type": "code",
      "metadata": {
        "id": "ac3HPcSxemwk",
        "colab_type": "code",
        "colab": {}
      },
      "source": [
        "descript_cloud = WordCloud(\n",
        "                          stopwords=STOPWORDS,\n",
        "                          background_color='black',\n",
        "                          width=1500,\n",
        "                          height=1400\n",
        "                         ).generate(\" \".join(descript['Description'].values))"
      ],
      "execution_count": 0,
      "outputs": []
    },
    {
      "cell_type": "code",
      "metadata": {
        "id": "fxd_GQ6qes41",
        "colab_type": "code",
        "outputId": "8e1d6182-8a77-4b78-fe8f-f42cb97f4781",
        "colab": {
          "base_uri": "https://localhost:8080/",
          "height": 248
        }
      },
      "source": [
        "plt.imshow(descript_cloud,alpha=0.75)\n",
        "plt.axis('off')\n",
        "plt.show()"
      ],
      "execution_count": 16,
      "outputs": [
        {
          "output_type": "display_data",
          "data": {
            "image/png": "[encoded data removed]",
            "text/plain": [
              "<Figure size 432x288 with 1 Axes>"
            ]
          },
          "metadata": {
            "tags": []
          }
        }
      ]
    },
    {
      "cell_type": "markdown",
      "metadata": {
        "colab_type": "text",
        "id": "gg-2PInhS4Jj"
      },
      "source": [
        "<pre style='font-size : 18px'><b>Day on which there is most crime?</b></pre>"
      ]
    },
    {
      "cell_type": "markdown",
      "metadata": {
        "id": "uD7YnGTLfOEG",
        "colab_type": "text"
      },
      "source": [
        "<pre style='font-size : 15px'>Consider we want to go for a walk at Saturday.\n",
        "But wait, maybe it's safer to go at the other day, let's take a look.</pre>"
      ]
    },
    {
      "cell_type": "code",
      "metadata": {
        "id": "JyomEyA8fxEy",
        "colab_type": "code",
        "colab": {}
      },
      "source": [
        "DOW = pd.DataFrame(list(zip(crime.DayOfWeek.value_counts(),crime.DayOfWeek.value_counts().index)), columns=['count','Day'], index=None)"
      ],
      "execution_count": 0,
      "outputs": []
    },
    {
      "cell_type": "code",
      "metadata": {
        "id": "7SJLYqgFf0r3",
        "colab_type": "code",
        "outputId": "6ce368cb-9300-4049-8333-f28d6e7b4cc8",
        "colab": {
          "base_uri": "https://localhost:8080/",
          "height": 314
        }
      },
      "source": [
        "sns.catplot(x=\"count\", y=\"Day\", data = DOW, kind=\"bar\", height=4, aspect=1.9)\n"
      ],
      "execution_count": 18,
      "outputs": [
        {
          "output_type": "execute_result",
          "data": {
            "text/plain": [
              "<seaborn.axisgrid.FacetGrid at 0x7f6ab0aeb668>"
            ]
          },
          "metadata": {
            "tags": []
          },
          "execution_count": 18
        },
        {
          "output_type": "display_data",
          "data": {
            "image/png": "[encoded data removed]",
            "text/plain": [
              "<Figure size 547.2x288 with 1 Axes>"
            ]
          },
          "metadata": {
            "tags": []
          }
        }
      ]
    },
    {
      "cell_type": "markdown",
      "metadata": {
        "id": "FHoFO3wFgEMo",
        "colab_type": "text"
      },
      "source": [
        "<pre style='font-size : 15px'>Oh, good that we know essential DS, it tend to make us safe and not go outside in dangerous days.</pre>"
      ]
    },
    {
      "cell_type": "markdown",
      "metadata": {
        "id": "vZkFBA_Lgpyr",
        "colab_type": "text"
      },
      "source": [
        "<pre style='font-size : 18px'><b>How good crimes are being resolved?</b></pre>"
      ]
    },
    {
      "cell_type": "markdown",
      "metadata": {
        "id": "AyE7JNKThjnu",
        "colab_type": "text"
      },
      "source": [
        "<pre style='font-size : 15px'>Let's go onto the \"Resolution\" column and look at the summary statistics.\n",
        "Hopefully we find that many of these crimes have been successfully \"resolved\".</pre>\n",
        "\n"
      ]
    },
    {
      "cell_type": "code",
      "metadata": {
        "id": "0EVmzvc9hsGc",
        "colab_type": "code",
        "colab": {}
      },
      "source": [
        "Resolution = pd.DataFrame(list(zip(crime.Resolution.value_counts().index,crime.Resolution.value_counts())), columns=['resolution','value'], index=None)"
      ],
      "execution_count": 0,
      "outputs": []
    },
    {
      "cell_type": "code",
      "metadata": {
        "id": "PJIMY0nrhvDq",
        "colab_type": "code",
        "colab": {}
      },
      "source": [
        "rescloud = WordCloud(\n",
        "                    stopwords=STOPWORDS,\n",
        "                    background_color='black',\n",
        "                    width=1500,\n",
        "                    height=1400\n",
        "                    ).generate(\" \".join(Resolution['resolution'].values))"
      ],
      "execution_count": 0,
      "outputs": []
    },
    {
      "cell_type": "code",
      "metadata": {
        "id": "lMZj6CTSh1aD",
        "colab_type": "code",
        "outputId": "7e7dd279-9e6c-4280-9ee2-3641b75bb5a2",
        "colab": {
          "base_uri": "https://localhost:8080/",
          "height": 248
        }
      },
      "source": [
        "plt.imshow(rescloud, alpha=0.75)\n",
        "plt.axis('off')\n",
        "plt.show()"
      ],
      "execution_count": 21,
      "outputs": [
        {
          "output_type": "display_data",
          "data": {
            "image/png": "[encoded data removed]",
            "text/plain": [
              "<Figure size 432x288 with 1 Axes>"
            ]
          },
          "metadata": {
            "tags": []
          }
        }
      ]
    },
    {
      "cell_type": "code",
      "metadata": {
        "id": "cRimMsHKh6fs",
        "colab_type": "code",
        "outputId": "3759ee45-a82d-49c8-cddc-8155e8b7301d",
        "colab": {
          "base_uri": "https://localhost:8080/",
          "height": 260
        }
      },
      "source": [
        "sns.catplot(x='value' , y = 'resolution', data=Resolution, kind=\"bar\", height=3.25, aspect=2.5, palette='BuGn_r')"
      ],
      "execution_count": 22,
      "outputs": [
        {
          "output_type": "execute_result",
          "data": {
            "text/plain": [
              "<seaborn.axisgrid.FacetGrid at 0x7f6ab03bad68>"
            ]
          },
          "metadata": {
            "tags": []
          },
          "execution_count": 22
        },
        {
          "output_type": "display_data",
          "data": {
            "image/png": "[encoded data removed]",
            "text/plain": [
              "<Figure size 585x234 with 1 Axes>"
            ]
          },
          "metadata": {
            "tags": []
          }
        }
      ]
    },
    {
      "cell_type": "markdown",
      "metadata": {
        "id": "9vfvLlankWil",
        "colab_type": "text"
      },
      "source": [
        "<pre style='font-size : 15px'>NONE means that most of crimes in this dataset are not resolved...</pre>\n",
        "\n"
      ]
    },
    {
      "cell_type": "markdown",
      "metadata": {
        "id": "cxEZDmIilIZl",
        "colab_type": "text"
      },
      "source": [
        "<pre style='font-size :25px; text-align: center'><b>SUMMARY</b></pre>\n",
        "\n",
        "<pre style='font-size :15px'>We have performed multiple actions in order to test and understand crime dataset using charts, word cloud, basic dataframe transformations.\n",
        "Even few simple steps discover many interesting facts regarding the data, for example most of crimes were not resolved, or information that most common crime is THEFT, etc...\n",
        "Can one imagine what kind of hidden information can be exploited if we dive deeper and deeper.\n",
        "</pre>\n"
      ]
    },
    {
      "cell_type": "markdown",
      "metadata": {
        "id": "6L1guaIVmXmr",
        "colab_type": "text"
      },
      "source": [
        "<pre style='font-size : 18px'><b>Try it yourself</b></pre>"
      ]
    },
    {
      "cell_type": "markdown",
      "metadata": {
        "id": "NwaEDOcYmfI0",
        "colab_type": "text"
      },
      "source": [
        "*Try to ask few more questions to the data and answer them*\n",
        "\n",
        "*X and Y columns (that coresspond to latitude and longitude or vise versa) are left antached for you:*\n",
        "Investigate how to plot this data on a map, maybe there is a pattern?"
      ]
    },
    {
      "cell_type": "markdown",
      "metadata": {
        "colab_type": "text",
        "id": "SUFwpVKOqAGh"
      },
      "source": [
        "**Task with a star**\n",
        "\n",
        "*   Can we predict crimes in advance?\n",
        "*   Does this dataset contain sufficient data to be used for predictive analysis?\n",
        "\n",
        "Come back here after a while and try to answer listed questions."
      ]
    }
  ]
}