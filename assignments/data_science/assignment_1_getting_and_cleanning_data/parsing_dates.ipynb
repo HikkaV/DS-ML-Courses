{
  "nbformat": 4,
  "nbformat_minor": 0,
  "metadata": {
    "colab": {
      "name": "parsing_dates.ipynb",
      "provenance": [],
      "collapsed_sections": [],
      "include_colab_link": true
    },
    "kernelspec": {
      "name": "python3",
      "display_name": "Python 3"
    }
  },
  "cells": [
    {
      "cell_type": "markdown",
      "metadata": {
        "id": "view-in-github",
        "colab_type": "text"
      },
      "source": [
        "<a href=\"https://colab.research.google.com/github/HikkaV/DS-ML-Courses/blob/master/parsing_dates.ipynb\" target=\"_parent\"><img src=\"https://colab.research.google.com/assets/colab-badge.svg\" alt=\"Open In Colab\"/></a>"
      ]
    },
    {
      "cell_type": "code",
      "metadata": {
        "id": "WGz8aw2fhR_d",
        "colab_type": "code",
        "colab": {}
      },
      "source": [
        ""
      ],
      "execution_count": 0,
      "outputs": []
    },
    {
      "cell_type": "markdown",
      "metadata": {
        "id": "W1QZzZXrfapm",
        "colab_type": "text"
      },
      "source": [
        "Let's download landslide dataset from kaggle. Please go to: [kaggle](https://www.kaggle.com/nasa/landslide-events/data) and uppload it mannually and put to collab files."
      ]
    },
    {
      "cell_type": "markdown",
      "metadata": {
        "id": "Ui8fpuN7gWuV",
        "colab_type": "text"
      },
      "source": [
        "The first thing we'll need to do is load in the libraries and datasets we'll be using. For today, we'll be working with one dataset containing information on landslides that occured between 2007 and 2016."
      ]
    },
    {
      "cell_type": "code",
      "metadata": {
        "id": "zRpVjFMEfUAg",
        "colab_type": "code",
        "colab": {}
      },
      "source": [
        "# modules we'll use\n",
        "import pandas as pd # library to work with data\n",
        "import numpy as np \n",
        "import seaborn as sns # library to visualize the data\n",
        "import datetime # library to work dates\n",
        "\n",
        "# read in our data\n",
        "landslides = pd.read_csv(\"catalog.csv\")\n",
        "\n",
        "# set seed for reproducibility\n",
        "np.random.seed(0)"
      ],
      "execution_count": 0,
      "outputs": []
    },
    {
      "cell_type": "markdown",
      "metadata": {
        "id": "zXp9e3R5kbXJ",
        "colab_type": "text"
      },
      "source": [
        "**Check the data type of our date column**"
      ]
    },
    {
      "cell_type": "markdown",
      "metadata": {
        "id": "ImxWEkm6klO8",
        "colab_type": "text"
      },
      "source": [
        "I'll be working with the date column from the landslides dataframe. The very first thing I'm going to do is take a peek at the first few rows to make sure it actually looks like it contains dates."
      ]
    },
    {
      "cell_type": "code",
      "metadata": {
        "id": "-7jn_fPljgnR",
        "colab_type": "code",
        "colab": {
          "base_uri": "https://localhost:8080/",
          "height": 119
        },
        "outputId": "2c2ba1f1-74e6-4bf4-ebec-f5d4f8768e1b"
      },
      "source": [
        "landslides['date'].head()"
      ],
      "execution_count": 29,
      "outputs": [
        {
          "output_type": "execute_result",
          "data": {
            "text/plain": [
              "0     3/2/07\n",
              "1    3/22/07\n",
              "2     4/6/07\n",
              "3    4/14/07\n",
              "4    4/15/07\n",
              "Name: date, dtype: object"
            ]
          },
          "metadata": {
            "tags": []
          },
          "execution_count": 29
        }
      ]
    },
    {
      "cell_type": "markdown",
      "metadata": {
        "id": "SJwT3KyylcgV",
        "colab_type": "text"
      },
      "source": [
        "Yes, those are dates! But just because I, a human, can tell that these are dates doesn't mean that Python knows that they're dates. Pay your attantion that the at the bottom of the output of head(), you can see that it says that the data type of this column is \"object\"."
      ]
    },
    {
      "cell_type": "markdown",
      "metadata": {
        "id": "PfunZVKQl1Uz",
        "colab_type": "text"
      },
      "source": [
        "If you check the pandas dtype documentation [docs](https://pandas.pydata.org/pandas-docs/stable/getting_started/basics.html), you'll notice that there's also a specific datetime64 dtypes. Because the dtype of our column is object rather than datetime64, we can tell that Python doesn't know that this column contains dates."
      ]
    },
    {
      "cell_type": "markdown",
      "metadata": {
        "id": "tgQhBBJMm0PU",
        "colab_type": "text"
      },
      "source": [
        "**Convert our date columns to datetime**"
      ]
    },
    {
      "cell_type": "markdown",
      "metadata": {
        "id": "7gPO0BNJm2MV",
        "colab_type": "text"
      },
      "source": [
        "Now that we know that our date column isn't being recognized as a date, it's time to convert it so that it is recognized as a date. This is called \"parsing dates\" because we're taking in a string and identifying its component parts."
      ]
    },
    {
      "cell_type": "markdown",
      "metadata": {
        "id": "awXNTuY2nADL",
        "colab_type": "text"
      },
      "source": [
        "The basic idea is that you need to point out which parts of the date are where and what punctuation is between them. [There are lots of possible parts of a date](https://strftime.org/), but the most common are %d for day, %m for month, %y for a two-digit year and %Y for a four digit year."
      ]
    },
    {
      "cell_type": "markdown",
      "metadata": {
        "id": "OQheDPDXnb_i",
        "colab_type": "text"
      },
      "source": [
        "Some examples:\n",
        "\n",
        "1.   1/17/07 has the format \"%m/%d/%y\"\n",
        "2.   17-1-2007 has the format \"%d-%m-%Y\"\n",
        "\n",
        "Looking back up at the head of the date column in the landslides dataset, we can see that it's in the format \"month/day/two-digit year\", so we can use the same syntax as the first example to parse in our dates"
      ]
    },
    {
      "cell_type": "code",
      "metadata": {
        "id": "dYHmB7YjnnDt",
        "colab_type": "code",
        "colab": {}
      },
      "source": [
        "# create a new column, date_parsed, with the parsed dates\n",
        "landslides['date_parsed'] = pd.to_datetime(landslides['date'], format = \"%m/%d/%y\")"
      ],
      "execution_count": 0,
      "outputs": []
    },
    {
      "cell_type": "markdown",
      "metadata": {
        "id": "yAelHG93nrJl",
        "colab_type": "text"
      },
      "source": [
        "Now when I check the first few rows of the new column, I can see that the dtype is datetime64. I can also see that my dates have been slightly rearranged so that they fit the default order datetime objects (year-month-day)."
      ]
    },
    {
      "cell_type": "code",
      "metadata": {
        "id": "2ksc49uensoZ",
        "colab_type": "code",
        "colab": {
          "base_uri": "https://localhost:8080/",
          "height": 119
        },
        "outputId": "0a85b176-3639-409d-c8f2-b23ed20d5206"
      },
      "source": [
        "landslides['date_parsed'].head()"
      ],
      "execution_count": 32,
      "outputs": [
        {
          "output_type": "execute_result",
          "data": {
            "text/plain": [
              "0   2007-03-02\n",
              "1   2007-03-22\n",
              "2   2007-04-06\n",
              "3   2007-04-14\n",
              "4   2007-04-15\n",
              "Name: date_parsed, dtype: datetime64[ns]"
            ]
          },
          "metadata": {
            "tags": []
          },
          "execution_count": 32
        }
      ]
    },
    {
      "cell_type": "markdown",
      "metadata": {
        "id": "Lt4mDGH9oQGp",
        "colab_type": "text"
      },
      "source": [
        "Now that our dates are parsed correctly, we can interact with them in useful ways."
      ]
    },
    {
      "cell_type": "markdown",
      "metadata": {
        "id": "EpUWW5Msou6S",
        "colab_type": "text"
      },
      "source": [
        "**Plot the day of the month to check the date parsing**"
      ]
    },
    {
      "cell_type": "markdown",
      "metadata": {
        "id": "yacX8y_Ao33p",
        "colab_type": "text"
      },
      "source": [
        "One of the biggest dangers in parsing dates is mixing up the months and days. The to_datetime() function does have very helpful error messages, but it doesn't hurt to double-check that the days of the month we've extracted make sense.\n",
        "\n",
        "To do this, let's plot a histogram of the days of the month. We expect it to have values between 1 and 31 and, since there's no reason to suppose the landslides are more common on some days of the month than others, a relatively even distribution. (With a dip on 31 because not all months have 31 days.) Let's see if that's the case:"
      ]
    },
    {
      "cell_type": "code",
      "metadata": {
        "id": "_nGlI1Tso-5A",
        "colab_type": "code",
        "colab": {
          "base_uri": "https://localhost:8080/",
          "height": 297
        },
        "outputId": "186a8a8f-6bd9-43af-be43-a3df13712c1f"
      },
      "source": [
        "#get day of month from landslised\n",
        "day_of_month_landslides = landslides['date_parsed'].dt.day\n",
        "# remove na's\n",
        "day_of_month_landslides = day_of_month_landslides.dropna()\n",
        "\n",
        "# plot the day of the month\n",
        "sns.distplot(day_of_month_landslides, kde=False, bins=31)"
      ],
      "execution_count": 34,
      "outputs": [
        {
          "output_type": "execute_result",
          "data": {
            "text/plain": [
              "<matplotlib.axes._subplots.AxesSubplot at 0x7f75545107b8>"
            ]
          },
          "metadata": {
            "tags": []
          },
          "execution_count": 34
        },
        {
          "output_type": "display_data",
          "data": {
            "image/png": "[encoded data removed]",
            "text/plain": [
              "<Figure size 432x288 with 1 Axes>"
            ]
          },
          "metadata": {
            "tags": []
          }
        }
      ]
    },
    {
      "cell_type": "markdown",
      "metadata": {
        "id": "iqYM1FWMpLdf",
        "colab_type": "text"
      },
      "source": [
        "Make sense"
      ]
    },
    {
      "cell_type": "markdown",
      "metadata": {
        "id": "T1OBBINepT_Y",
        "colab_type": "text"
      },
      "source": [
        "Now is your turn with earthquakes dataset.\n",
        "\n",
        "*Hints:*\n",
        "**What if I run into an error with multiple date formats?** While we're specifying the date format here, sometimes you'll run into an error when there are multiple date formats in a single column. If that happens, you have have pandas try to infer what the right date format should be. You can do that like so:\n",
        "\n",
        "`landslides['date_parsed'] = pd.to_datetime(landslides['Date'], infer_datetime_format=True)`\n",
        "\n",
        "**Why don't you always use infer_datetime_format = True?** There are two big reasons not to always have pandas guess the time format. The first is that pandas won't always been able to figure out the correct date format, especially if someone has gotten creative with data entry. The second is that it's much slower than specifying the exact format of the dates."
      ]
    },
    {
      "cell_type": "markdown",
      "metadata": {
        "id": "SUFwpVKOqAGh",
        "colab_type": "text"
      },
      "source": [
        "**Task with a start**\n",
        "\n",
        "*   How human can be correct in detecting date format?\n",
        "*   Can we make correct dates from string without specifying format?\n",
        "\n",
        "Come back here after a while and try to solve this task without build in packages and function but with building your own AI for detecting date format from strings based on NN and Deep Learning."
      ]
    },
    {
      "cell_type": "code",
      "metadata": {
        "id": "6qw0dJ4Tp74q",
        "colab_type": "code",
        "colab": {}
      },
      "source": [
        "earthquakes = pd.read_csv(\"../input/earthquake-database/database.csv\")"
      ],
      "execution_count": 0,
      "outputs": []
    }
  ]
}